{
 "cells": [
  {
   "cell_type": "markdown",
   "metadata": {},
   "source": [
    "Hey, I'm Jobert Gutierrez and hereafter you'll find the logic and code used to answer the fourth assignment in the program Data Engineering Zoomcamp offered by Data Talks Club."
   ]
  },
  {
   "cell_type": "markdown",
   "metadata": {},
   "source": [
    "# __Module 4 Homework__\n",
    "\n",
    "### Data talks club data engineering zoomcamp Data loading workshop\n",
    "\n",
    "The `linked colab notebook` offers a few exercises to practice what you learned today.\n",
    "\n",
    "__Important Note:__\n",
    "\n",
    "I replicated the code here below, so you can copy & paste it to check the answer in the original `colab notebook` avalible at: https://colab.research.google.com/drive/1Te-AT0lfh0GpChg1Rbd0ByEKOHYtWXfm#scrollTo=wLng-bDJN4jf&forceEdit=true&sandboxMode=true\n"
   ]
  },
  {
   "cell_type": "markdown",
   "metadata": {},
   "source": [
    "### Preparation.\n",
    "\n",
    "### Part 1. __Use a generator__\n",
    "\n",
    "Remember the concept of generator? Let's practice using them to futher our understanding of how they work.\n",
    "\n",
    "Let's define a generator and then run it as practice."
   ]
  },
  {
   "cell_type": "code",
   "execution_count": 1,
   "metadata": {},
   "outputs": [
    {
     "name": "stdout",
     "output_type": "stream",
     "text": [
      "1.0\n",
      "1.4142135623730951\n",
      "1.7320508075688772\n",
      "2.0\n",
      "2.23606797749979\n"
     ]
    }
   ],
   "source": [
    "def square_root_generator(limit):\n",
    "    n = 1\n",
    "    while n <= limit:\n",
    "        yield n ** 0.5\n",
    "        n += 1\n",
    "\n",
    "# Example usage:\n",
    "limit = 5\n",
    "generator = square_root_generator(limit)\n",
    "\n",
    "for sqrt_value in generator:\n",
    "    print(sqrt_value)"
   ]
  },
  {
   "cell_type": "markdown",
   "metadata": {},
   "source": [
    "## Answer the following questions:\n",
    "### Question 1: \n",
    "What is the sum of the outputs of the generator for limit = 5?\n",
    "\n",
    "- A: 10.23433234744176\n",
    "- B: 7.892332347441762\n",
    "- C: 8.382332347441762\n",
    "- D: 9.123332347441762\n",
    "\n"
   ]
  },
  {
   "cell_type": "markdown",
   "metadata": {},
   "source": [
    "### Answer: \n",
    "To get the answer required, I slightly modified the `generator`'s code by using an auxiliary variable to sum the current iteration result's to it's previous values. "
   ]
  },
  {
   "cell_type": "code",
   "execution_count": 2,
   "metadata": {},
   "outputs": [
    {
     "name": "stdout",
     "output_type": "stream",
     "text": [
      "1.0  |  1.0\n",
      "1.4142135623730951  |  2.414213562373095\n",
      "1.7320508075688772  |  4.146264369941973\n",
      "2.0  |  6.146264369941973\n",
      "2.23606797749979  |  8.382332347441762\n"
     ]
    }
   ],
   "source": [
    "def square_root_generator(limit):\n",
    "    n = 1\n",
    "    while n <= limit:\n",
    "        yield n ** 0.5\n",
    "        n += 1\n",
    "\n",
    "# Example usage:\n",
    "limit = 5\n",
    "generator = square_root_generator(limit)\n",
    "\n",
    "sum_values = 0 # Using an auxiliary variable to get the sums up to every iteration\n",
    "for sqrt_value in generator:\n",
    "    sum_values = sum_values + sqrt_value \n",
    "    print(sqrt_value,\" | \",sum_values) # And modifying the print statement to get the result"
   ]
  },
  {
   "cell_type": "markdown",
   "metadata": {},
   "source": [
    "From the above excerpt it's clearly appreciated that the correct answer is __C: 8.382332347441762__."
   ]
  },
  {
   "cell_type": "markdown",
   "metadata": {},
   "source": [
    "## Question 2:\n",
    "What is the 13th number yielded by the generator?\n",
    "\n",
    "- A: 4.236551275463989\n",
    "- B: 3.605551275463989\n",
    "- C: 2.345551275463989\n",
    "- D: 5.678551275463989\n",
    "\n",
    "## Answer:\n",
    "\n",
    "Using the same modified code as in question one, I get:"
   ]
  },
  {
   "cell_type": "code",
   "execution_count": 3,
   "metadata": {},
   "outputs": [
    {
     "name": "stdout",
     "output_type": "stream",
     "text": [
      "1.0  |  1.0\n",
      "1.4142135623730951  |  2.414213562373095\n",
      "1.7320508075688772  |  4.146264369941973\n",
      "2.0  |  6.146264369941973\n",
      "2.23606797749979  |  8.382332347441762\n",
      "2.449489742783178  |  10.83182209022494\n",
      "2.6457513110645907  |  13.47757340128953\n",
      "2.8284271247461903  |  16.30600052603572\n",
      "3.0  |  19.30600052603572\n",
      "3.1622776601683795  |  22.4682781862041\n",
      "3.3166247903554  |  25.7849029765595\n",
      "3.4641016151377544  |  29.249004591697254\n",
      "3.605551275463989  |  32.854555867161245\n"
     ]
    }
   ],
   "source": [
    "def square_root_generator(limit):\n",
    "    n = 1\n",
    "    while n <= limit:\n",
    "        yield n ** 0.5\n",
    "        n += 1\n",
    "\n",
    "# Example usage:\n",
    "limit = 13  # This time I set the limit to 13 \n",
    "generator = square_root_generator(limit)\n",
    "\n",
    "sum_values = 0\n",
    "for sqrt_value in generator:\n",
    "    sum_values = sum_values +sqrt_value \n",
    "    print(sqrt_value,\" | \",sum_values)"
   ]
  },
  {
   "cell_type": "markdown",
   "metadata": {},
   "source": [
    "From the results above, I can identiy that the correct answer is __B: 3.605551275463989__."
   ]
  },
  {
   "cell_type": "markdown",
   "metadata": {},
   "source": [
    "### Part 2. __Append a generator to a table with existing data__\n",
    "\n",
    "Below you have 2 generators. You will be tasked to load them to duckdb and answer some questions from the data\n",
    "\n",
    "1. Load the first generator and calculate the sum of ages of all people. Make sure to only load it once.\n",
    "2. Append the second generator to the same table as the first."
   ]
  },
  {
   "cell_type": "code",
   "execution_count": 4,
   "metadata": {},
   "outputs": [
    {
     "name": "stdout",
     "output_type": "stream",
     "text": [
      "{'ID': 1, 'Name': 'Person_1', 'Age': 26, 'City': 'City_A'}\n",
      "{'ID': 2, 'Name': 'Person_2', 'Age': 27, 'City': 'City_A'}\n",
      "{'ID': 3, 'Name': 'Person_3', 'Age': 28, 'City': 'City_A'}\n",
      "{'ID': 4, 'Name': 'Person_4', 'Age': 29, 'City': 'City_A'}\n",
      "{'ID': 5, 'Name': 'Person_5', 'Age': 30, 'City': 'City_A'}\n",
      "{'ID': 3, 'Name': 'Person_3', 'Age': 33, 'City': 'City_B', 'Occupation': 'Job_3'}\n",
      "{'ID': 4, 'Name': 'Person_4', 'Age': 34, 'City': 'City_B', 'Occupation': 'Job_4'}\n",
      "{'ID': 5, 'Name': 'Person_5', 'Age': 35, 'City': 'City_B', 'Occupation': 'Job_5'}\n",
      "{'ID': 6, 'Name': 'Person_6', 'Age': 36, 'City': 'City_B', 'Occupation': 'Job_6'}\n",
      "{'ID': 7, 'Name': 'Person_7', 'Age': 37, 'City': 'City_B', 'Occupation': 'Job_7'}\n",
      "{'ID': 8, 'Name': 'Person_8', 'Age': 38, 'City': 'City_B', 'Occupation': 'Job_8'}\n"
     ]
    }
   ],
   "source": [
    "def people_1():\n",
    "    for i in range(1, 6):\n",
    "        yield {\"ID\": i, \"Name\": f\"Person_{i}\", \"Age\": 25 + i, \"City\": \"City_A\"}\n",
    "\n",
    "for person in people_1():\n",
    "    print(person)\n",
    "\n",
    "\n",
    "def people_2():\n",
    "    for i in range(3, 9):\n",
    "        yield {\"ID\": i, \"Name\": f\"Person_{i}\", \"Age\": 30 + i, \"City\": \"City_B\", \"Occupation\": f\"Job_{i}\"}\n",
    "\n",
    "\n",
    "for person in people_2():\n",
    "    print(person)"
   ]
  },
  {
   "cell_type": "markdown",
   "metadata": {},
   "source": [
    "## Question 3. \n",
    "Append the 2 generators. After correctly appending the data, calculate the sum of all ages of people.\n",
    "\n",
    "- A: 353\n",
    "- B: 365\n",
    "- C: 378\n",
    "- D: 390\n",
    "\n",
    "## Answer:\n",
    "\n",
    "Using the code:"
   ]
  },
  {
   "cell_type": "code",
   "execution_count": 5,
   "metadata": {},
   "outputs": [
    {
     "name": "stdout",
     "output_type": "stream",
     "text": [
      "Pipeline dlt_ipykernel_launcher load step completed in 0.66 seconds\n",
      "1 load package(s) were loaded to destination duckdb and into dataset generators\n",
      "The duckdb destination used duckdb:///c:\\Users\\jober\\data_engineering_zoomcamp\\de_zoomcamp_homeworks\\homework4\\dlt_ipykernel_launcher.duckdb location to store data\n",
      "Load package 1707793561.5318427 is LOADED and contains no failed jobs\n"
     ]
    }
   ],
   "source": [
    "# to do: homework :)\n",
    "\n",
    "import dlt\n",
    "\n",
    "# define the connection to load into duckdb as requested\n",
    "generators_pipeline = dlt.pipeline(destination='duckdb', dataset_name='generators')\n",
    "\n",
    "# I start by loading the first generator:\n",
    "def people_1():\n",
    "    for i in range(1, 6):\n",
    "        yield {\"ID\": i, \"Name\": f\"Person_{i}\", \"Age\": 25 + i, \"City\": \"City_A\"}\n",
    "\n",
    "info = generators_pipeline.run(people_1(),\n",
    "\t\t\t\t\t\t\t\t\t\ttable_name=\"gen1\",\n",
    "\t\t\t\t\t\t\t\t\t\twrite_disposition=\"replace\")\n",
    "\n",
    "# I decided to inspect the outcome metadata returned by the load by printing it.\n",
    "print(info)"
   ]
  },
  {
   "cell_type": "code",
   "execution_count": 6,
   "metadata": {},
   "outputs": [
    {
     "name": "stdout",
     "output_type": "stream",
     "text": [
      "Loaded tables: \n"
     ]
    },
    {
     "data": {
      "text/plain": [
       "┌─────────────────────┐\n",
       "│        name         │\n",
       "│       varchar       │\n",
       "├─────────────────────┤\n",
       "│ _dlt_loads          │\n",
       "│ _dlt_pipeline_state │\n",
       "│ _dlt_version        │\n",
       "│ gen1                │\n",
       "│ gen1_p4             │\n",
       "└─────────────────────┘"
      ]
     },
     "metadata": {},
     "output_type": "display_data"
    },
    {
     "name": "stdout",
     "output_type": "stream",
     "text": [
      "gen1 table below:\n"
     ]
    },
    {
     "data": {
      "text/html": [
       "<div>\n",
       "<style scoped>\n",
       "    .dataframe tbody tr th:only-of-type {\n",
       "        vertical-align: middle;\n",
       "    }\n",
       "\n",
       "    .dataframe tbody tr th {\n",
       "        vertical-align: top;\n",
       "    }\n",
       "\n",
       "    .dataframe thead th {\n",
       "        text-align: right;\n",
       "    }\n",
       "</style>\n",
       "<table border=\"1\" class=\"dataframe\">\n",
       "  <thead>\n",
       "    <tr style=\"text-align: right;\">\n",
       "      <th></th>\n",
       "      <th>id</th>\n",
       "      <th>name</th>\n",
       "      <th>age</th>\n",
       "      <th>city</th>\n",
       "      <th>_dlt_load_id</th>\n",
       "      <th>_dlt_id</th>\n",
       "      <th>occupation</th>\n",
       "    </tr>\n",
       "  </thead>\n",
       "  <tbody>\n",
       "    <tr>\n",
       "      <th>0</th>\n",
       "      <td>1</td>\n",
       "      <td>Person_1</td>\n",
       "      <td>26</td>\n",
       "      <td>City_A</td>\n",
       "      <td>1707793561.5318427</td>\n",
       "      <td>ngoRBcmPxz5+6w</td>\n",
       "      <td>None</td>\n",
       "    </tr>\n",
       "    <tr>\n",
       "      <th>1</th>\n",
       "      <td>2</td>\n",
       "      <td>Person_2</td>\n",
       "      <td>27</td>\n",
       "      <td>City_A</td>\n",
       "      <td>1707793561.5318427</td>\n",
       "      <td>h/H8m4BZ12zWMQ</td>\n",
       "      <td>None</td>\n",
       "    </tr>\n",
       "    <tr>\n",
       "      <th>2</th>\n",
       "      <td>3</td>\n",
       "      <td>Person_3</td>\n",
       "      <td>28</td>\n",
       "      <td>City_A</td>\n",
       "      <td>1707793561.5318427</td>\n",
       "      <td>sjzHWfEpcGw+Vg</td>\n",
       "      <td>None</td>\n",
       "    </tr>\n",
       "    <tr>\n",
       "      <th>3</th>\n",
       "      <td>4</td>\n",
       "      <td>Person_4</td>\n",
       "      <td>29</td>\n",
       "      <td>City_A</td>\n",
       "      <td>1707793561.5318427</td>\n",
       "      <td>7oeIsaGxyZ+I1g</td>\n",
       "      <td>None</td>\n",
       "    </tr>\n",
       "    <tr>\n",
       "      <th>4</th>\n",
       "      <td>5</td>\n",
       "      <td>Person_5</td>\n",
       "      <td>30</td>\n",
       "      <td>City_A</td>\n",
       "      <td>1707793561.5318427</td>\n",
       "      <td>LxTYVm2xrsOXuQ</td>\n",
       "      <td>None</td>\n",
       "    </tr>\n",
       "  </tbody>\n",
       "</table>\n",
       "</div>"
      ],
      "text/plain": [
       "   id      name  age    city        _dlt_load_id         _dlt_id occupation\n",
       "0   1  Person_1   26  City_A  1707793561.5318427  ngoRBcmPxz5+6w       None\n",
       "1   2  Person_2   27  City_A  1707793561.5318427  h/H8m4BZ12zWMQ       None\n",
       "2   3  Person_3   28  City_A  1707793561.5318427  sjzHWfEpcGw+Vg       None\n",
       "3   4  Person_4   29  City_A  1707793561.5318427  7oeIsaGxyZ+I1g       None\n",
       "4   5  Person_5   30  City_A  1707793561.5318427  LxTYVm2xrsOXuQ       None"
      ]
     },
     "metadata": {},
     "output_type": "display_data"
    },
    {
     "name": "stdout",
     "output_type": "stream",
     "text": [
      "The sum of ages from all people in gen1 is:\n"
     ]
    },
    {
     "data": {
      "text/html": [
       "<div>\n",
       "<style scoped>\n",
       "    .dataframe tbody tr th:only-of-type {\n",
       "        vertical-align: middle;\n",
       "    }\n",
       "\n",
       "    .dataframe tbody tr th {\n",
       "        vertical-align: top;\n",
       "    }\n",
       "\n",
       "    .dataframe thead th {\n",
       "        text-align: right;\n",
       "    }\n",
       "</style>\n",
       "<table border=\"1\" class=\"dataframe\">\n",
       "  <thead>\n",
       "    <tr style=\"text-align: right;\">\n",
       "      <th></th>\n",
       "      <th>sum_age</th>\n",
       "    </tr>\n",
       "  </thead>\n",
       "  <tbody>\n",
       "    <tr>\n",
       "      <th>0</th>\n",
       "      <td>140.0</td>\n",
       "    </tr>\n",
       "  </tbody>\n",
       "</table>\n",
       "</div>"
      ],
      "text/plain": [
       "   sum_age\n",
       "0    140.0"
      ]
     },
     "metadata": {},
     "output_type": "display_data"
    }
   ],
   "source": [
    "# Then I check the sum of ages od all people in generator 1 by using the following code:\n",
    "import duckdb\n",
    "\n",
    "# Firstly, I create a connection to the database in duckdb\n",
    "conn = duckdb.connect(f\"{generators_pipeline.pipeline_name}.duckdb\")\n",
    "\n",
    "# to see the tables\n",
    "conn.sql(f\"SET search_path = '{generators_pipeline.dataset_name}'\")\n",
    "print('Loaded tables: ')\n",
    "display(conn.sql(\"show tables\")) # Here I validate that the table gen1 was properly created\n",
    "\n",
    "# and to see the data in gen1\n",
    "print(\"gen1 table below:\")\n",
    "people_gen1 = conn.sql(\"SELECT * FROM gen1\").df()\n",
    "display(people_gen1)\n",
    "\n",
    "# Then using a sql request from gen1 we get the sum of ages as follows:\n",
    "print(\"The sum of ages from all people in gen1 is:\")\n",
    "ages_gen1 = conn.sql(\"SELECT sum(age) as sum_age FROM gen1\").df()\n",
    "display(ages_gen1)"
   ]
  },
  {
   "cell_type": "code",
   "execution_count": 7,
   "metadata": {},
   "outputs": [],
   "source": [
    "# To append the results of the second generator to the first one, I use the code:\n",
    "def people_2():\n",
    "    for i in range(3, 9):\n",
    "        yield {\"ID\": i, \"Name\": f\"Person_{i}\", \"Age\": 30 + i, \"City\": \"City_B\", \"Occupation\": f\"Job_{i}\"}\n",
    "\n",
    "# Appending the registries to the same table means adding them to gen1. \n",
    "info = generators_pipeline.run(people_2(),\n",
    "\t\t\t\t\t\t\t\t\t\ttable_name=\"gen1\",\n",
    "\t\t\t\t\t\t\t\t\t\twrite_disposition=\"append\")"
   ]
  },
  {
   "cell_type": "code",
   "execution_count": 8,
   "metadata": {},
   "outputs": [
    {
     "name": "stdout",
     "output_type": "stream",
     "text": [
      "\n",
      " the new data in gen1 table is shown below:\n"
     ]
    },
    {
     "data": {
      "text/html": [
       "<div>\n",
       "<style scoped>\n",
       "    .dataframe tbody tr th:only-of-type {\n",
       "        vertical-align: middle;\n",
       "    }\n",
       "\n",
       "    .dataframe tbody tr th {\n",
       "        vertical-align: top;\n",
       "    }\n",
       "\n",
       "    .dataframe thead th {\n",
       "        text-align: right;\n",
       "    }\n",
       "</style>\n",
       "<table border=\"1\" class=\"dataframe\">\n",
       "  <thead>\n",
       "    <tr style=\"text-align: right;\">\n",
       "      <th></th>\n",
       "      <th>id</th>\n",
       "      <th>name</th>\n",
       "      <th>age</th>\n",
       "      <th>city</th>\n",
       "      <th>_dlt_load_id</th>\n",
       "      <th>_dlt_id</th>\n",
       "      <th>occupation</th>\n",
       "    </tr>\n",
       "  </thead>\n",
       "  <tbody>\n",
       "    <tr>\n",
       "      <th>0</th>\n",
       "      <td>1</td>\n",
       "      <td>Person_1</td>\n",
       "      <td>26</td>\n",
       "      <td>City_A</td>\n",
       "      <td>1707793561.5318427</td>\n",
       "      <td>ngoRBcmPxz5+6w</td>\n",
       "      <td>None</td>\n",
       "    </tr>\n",
       "    <tr>\n",
       "      <th>1</th>\n",
       "      <td>2</td>\n",
       "      <td>Person_2</td>\n",
       "      <td>27</td>\n",
       "      <td>City_A</td>\n",
       "      <td>1707793561.5318427</td>\n",
       "      <td>h/H8m4BZ12zWMQ</td>\n",
       "      <td>None</td>\n",
       "    </tr>\n",
       "    <tr>\n",
       "      <th>2</th>\n",
       "      <td>3</td>\n",
       "      <td>Person_3</td>\n",
       "      <td>28</td>\n",
       "      <td>City_A</td>\n",
       "      <td>1707793561.5318427</td>\n",
       "      <td>sjzHWfEpcGw+Vg</td>\n",
       "      <td>None</td>\n",
       "    </tr>\n",
       "    <tr>\n",
       "      <th>3</th>\n",
       "      <td>4</td>\n",
       "      <td>Person_4</td>\n",
       "      <td>29</td>\n",
       "      <td>City_A</td>\n",
       "      <td>1707793561.5318427</td>\n",
       "      <td>7oeIsaGxyZ+I1g</td>\n",
       "      <td>None</td>\n",
       "    </tr>\n",
       "    <tr>\n",
       "      <th>4</th>\n",
       "      <td>5</td>\n",
       "      <td>Person_5</td>\n",
       "      <td>30</td>\n",
       "      <td>City_A</td>\n",
       "      <td>1707793561.5318427</td>\n",
       "      <td>LxTYVm2xrsOXuQ</td>\n",
       "      <td>None</td>\n",
       "    </tr>\n",
       "    <tr>\n",
       "      <th>5</th>\n",
       "      <td>3</td>\n",
       "      <td>Person_3</td>\n",
       "      <td>33</td>\n",
       "      <td>City_B</td>\n",
       "      <td>1707793563.2571623</td>\n",
       "      <td>JuwtAXkh4jZ9zA</td>\n",
       "      <td>Job_3</td>\n",
       "    </tr>\n",
       "    <tr>\n",
       "      <th>6</th>\n",
       "      <td>4</td>\n",
       "      <td>Person_4</td>\n",
       "      <td>34</td>\n",
       "      <td>City_B</td>\n",
       "      <td>1707793563.2571623</td>\n",
       "      <td>LeIfB6DbmZPcjQ</td>\n",
       "      <td>Job_4</td>\n",
       "    </tr>\n",
       "    <tr>\n",
       "      <th>7</th>\n",
       "      <td>5</td>\n",
       "      <td>Person_5</td>\n",
       "      <td>35</td>\n",
       "      <td>City_B</td>\n",
       "      <td>1707793563.2571623</td>\n",
       "      <td>vubuiLzIWZ4wHg</td>\n",
       "      <td>Job_5</td>\n",
       "    </tr>\n",
       "    <tr>\n",
       "      <th>8</th>\n",
       "      <td>6</td>\n",
       "      <td>Person_6</td>\n",
       "      <td>36</td>\n",
       "      <td>City_B</td>\n",
       "      <td>1707793563.2571623</td>\n",
       "      <td>fw/C219yIytxEw</td>\n",
       "      <td>Job_6</td>\n",
       "    </tr>\n",
       "    <tr>\n",
       "      <th>9</th>\n",
       "      <td>7</td>\n",
       "      <td>Person_7</td>\n",
       "      <td>37</td>\n",
       "      <td>City_B</td>\n",
       "      <td>1707793563.2571623</td>\n",
       "      <td>0II9UP/yLsq91A</td>\n",
       "      <td>Job_7</td>\n",
       "    </tr>\n",
       "    <tr>\n",
       "      <th>10</th>\n",
       "      <td>8</td>\n",
       "      <td>Person_8</td>\n",
       "      <td>38</td>\n",
       "      <td>City_B</td>\n",
       "      <td>1707793563.2571623</td>\n",
       "      <td>nVI7FxcRL6i6oA</td>\n",
       "      <td>Job_8</td>\n",
       "    </tr>\n",
       "  </tbody>\n",
       "</table>\n",
       "</div>"
      ],
      "text/plain": [
       "    id      name  age    city        _dlt_load_id         _dlt_id occupation\n",
       "0    1  Person_1   26  City_A  1707793561.5318427  ngoRBcmPxz5+6w       None\n",
       "1    2  Person_2   27  City_A  1707793561.5318427  h/H8m4BZ12zWMQ       None\n",
       "2    3  Person_3   28  City_A  1707793561.5318427  sjzHWfEpcGw+Vg       None\n",
       "3    4  Person_4   29  City_A  1707793561.5318427  7oeIsaGxyZ+I1g       None\n",
       "4    5  Person_5   30  City_A  1707793561.5318427  LxTYVm2xrsOXuQ       None\n",
       "5    3  Person_3   33  City_B  1707793563.2571623  JuwtAXkh4jZ9zA      Job_3\n",
       "6    4  Person_4   34  City_B  1707793563.2571623  LeIfB6DbmZPcjQ      Job_4\n",
       "7    5  Person_5   35  City_B  1707793563.2571623  vubuiLzIWZ4wHg      Job_5\n",
       "8    6  Person_6   36  City_B  1707793563.2571623  fw/C219yIytxEw      Job_6\n",
       "9    7  Person_7   37  City_B  1707793563.2571623  0II9UP/yLsq91A      Job_7\n",
       "10   8  Person_8   38  City_B  1707793563.2571623  nVI7FxcRL6i6oA      Job_8"
      ]
     },
     "metadata": {},
     "output_type": "display_data"
    },
    {
     "name": "stdout",
     "output_type": "stream",
     "text": [
      "\n",
      " The sum of ages from all people in gen1 (from generator1 and generator2) is:\n"
     ]
    },
    {
     "data": {
      "text/html": [
       "<div>\n",
       "<style scoped>\n",
       "    .dataframe tbody tr th:only-of-type {\n",
       "        vertical-align: middle;\n",
       "    }\n",
       "\n",
       "    .dataframe tbody tr th {\n",
       "        vertical-align: top;\n",
       "    }\n",
       "\n",
       "    .dataframe thead th {\n",
       "        text-align: right;\n",
       "    }\n",
       "</style>\n",
       "<table border=\"1\" class=\"dataframe\">\n",
       "  <thead>\n",
       "    <tr style=\"text-align: right;\">\n",
       "      <th></th>\n",
       "      <th>sum_age</th>\n",
       "    </tr>\n",
       "  </thead>\n",
       "  <tbody>\n",
       "    <tr>\n",
       "      <th>0</th>\n",
       "      <td>353.0</td>\n",
       "    </tr>\n",
       "  </tbody>\n",
       "</table>\n",
       "</div>"
      ],
      "text/plain": [
       "   sum_age\n",
       "0    353.0"
      ]
     },
     "metadata": {},
     "output_type": "display_data"
    }
   ],
   "source": [
    "# and to check the data in gen1 out \n",
    "print(\"\\n the new data in gen1 table is shown below:\")\n",
    "people_gen1 = conn.sql(\"SELECT * FROM gen1\").df()\n",
    "display(people_gen1)\n",
    "\n",
    "# Then using a sql request from gen1 we get the sum of ages as follows:\n",
    "print(\"\\n The sum of ages from all people in gen1 (from generator1 and generator2) is:\")\n",
    "ages_gen1 = conn.sql(\"SELECT sum(age) as sum_age FROM gen1\").df()\n",
    "display(ages_gen1)"
   ]
  },
  {
   "cell_type": "markdown",
   "metadata": {},
   "source": [
    "Using the code snippets above, we calculate the sum of all ages of people as __'A: 353'.__"
   ]
  },
  {
   "cell_type": "markdown",
   "metadata": {},
   "source": [
    "### Part 3. __Merge a generator__\n",
    "Re-use the generators from Exercise 2.\n",
    "\n",
    "A table's primary key needs to be created from the start, so load your data to a new table with primary key ID.\n",
    "\n",
    "Load your first generator first, and then load the second one with merge. Since they have overlapping IDs, some of the records from the first load should be replaced by the ones from the second load.\n",
    "\n",
    "After loading, you should have a total of 8 records, and ID 3 should have age 33.\n",
    "\n",
    "## Question 4. \n",
    "Merge the 2 generators using the ID column. Calculate the sum of ages of all the people loaded as described above.\n",
    "- A: 215\n",
    "- B: 266\n",
    "- C: 241\n",
    "- D: 258\n",
    "\n",
    "## Answer:\n",
    "\n",
    "Using following the code:"
   ]
  },
  {
   "cell_type": "code",
   "execution_count": 9,
   "metadata": {},
   "outputs": [
    {
     "name": "stdout",
     "output_type": "stream",
     "text": [
      "Pipeline dlt_ipykernel_launcher load step completed in 0.72 seconds\n",
      "1 load package(s) were loaded to destination duckdb and into dataset generators\n",
      "The duckdb destination used duckdb:///c:\\Users\\jober\\data_engineering_zoomcamp\\de_zoomcamp_homeworks\\homework4\\dlt_ipykernel_launcher.duckdb location to store data\n",
      "Load package 1707793564.6901357 is LOADED and contains no failed jobs\n",
      "Pipeline dlt_ipykernel_launcher load step completed in 0.82 seconds\n",
      "1 load package(s) were loaded to destination duckdb and into dataset generators\n",
      "The duckdb destination used duckdb:///c:\\Users\\jober\\data_engineering_zoomcamp\\de_zoomcamp_homeworks\\homework4\\dlt_ipykernel_launcher.duckdb location to store data\n",
      "Load package 1707793566.2108777 is LOADED and contains no failed jobs\n"
     ]
    }
   ],
   "source": [
    "# In this case I use the same pipeline of created for exercise 3 so it doesn't need to be created.\n",
    "\n",
    "# I start by loading the first generator in a new table \"gen1_p4\":\n",
    "info = generators_pipeline.run(people_1(),\n",
    "\t\t\t\t\t\t\t\t\t\ttable_name=\"gen1_p4\",\n",
    "                                        primary_key=\"id\",\n",
    "\t\t\t\t\t\t\t\t\t\twrite_disposition=\"replace\")\n",
    "\n",
    "# I decided to inspect the outcome metadata returned by the load by printing it.\n",
    "print(info)\n",
    "\n",
    "# Then I load the second generator in the same table with the write disposition \"merge\"\n",
    "# This ensure registries with same ID get updated\n",
    "info = generators_pipeline.run(people_2(),\n",
    "\t\t\t\t\t\t\t\t\t\ttable_name=\"gen1_p4\",\n",
    "                                        primary_key=\"id\",\n",
    "\t\t\t\t\t\t\t\t\t\twrite_disposition=\"merge\")\n",
    "\n",
    "# To see if the second load was performed ok I print the outcome metadata.\n",
    "print(info)"
   ]
  },
  {
   "cell_type": "code",
   "execution_count": 10,
   "metadata": {},
   "outputs": [
    {
     "name": "stdout",
     "output_type": "stream",
     "text": [
      "\n",
      " the merged data in gen1_p4 table is shown below:\n"
     ]
    },
    {
     "data": {
      "text/html": [
       "<div>\n",
       "<style scoped>\n",
       "    .dataframe tbody tr th:only-of-type {\n",
       "        vertical-align: middle;\n",
       "    }\n",
       "\n",
       "    .dataframe tbody tr th {\n",
       "        vertical-align: top;\n",
       "    }\n",
       "\n",
       "    .dataframe thead th {\n",
       "        text-align: right;\n",
       "    }\n",
       "</style>\n",
       "<table border=\"1\" class=\"dataframe\">\n",
       "  <thead>\n",
       "    <tr style=\"text-align: right;\">\n",
       "      <th></th>\n",
       "      <th>id</th>\n",
       "      <th>name</th>\n",
       "      <th>age</th>\n",
       "      <th>city</th>\n",
       "      <th>_dlt_load_id</th>\n",
       "      <th>_dlt_id</th>\n",
       "      <th>occupation</th>\n",
       "    </tr>\n",
       "  </thead>\n",
       "  <tbody>\n",
       "    <tr>\n",
       "      <th>0</th>\n",
       "      <td>1</td>\n",
       "      <td>Person_1</td>\n",
       "      <td>26</td>\n",
       "      <td>City_A</td>\n",
       "      <td>1707793564.6901357</td>\n",
       "      <td>yUOb3CZBbymo6w</td>\n",
       "      <td>None</td>\n",
       "    </tr>\n",
       "    <tr>\n",
       "      <th>1</th>\n",
       "      <td>2</td>\n",
       "      <td>Person_2</td>\n",
       "      <td>27</td>\n",
       "      <td>City_A</td>\n",
       "      <td>1707793564.6901357</td>\n",
       "      <td>lk1XmQyfWL3kMw</td>\n",
       "      <td>None</td>\n",
       "    </tr>\n",
       "    <tr>\n",
       "      <th>2</th>\n",
       "      <td>7</td>\n",
       "      <td>Person_7</td>\n",
       "      <td>37</td>\n",
       "      <td>City_B</td>\n",
       "      <td>1707793566.2108777</td>\n",
       "      <td>vv1pl13Q4gTEOw</td>\n",
       "      <td>Job_7</td>\n",
       "    </tr>\n",
       "    <tr>\n",
       "      <th>3</th>\n",
       "      <td>3</td>\n",
       "      <td>Person_3</td>\n",
       "      <td>33</td>\n",
       "      <td>City_B</td>\n",
       "      <td>1707793566.2108777</td>\n",
       "      <td>G7KrG1F4BC4onw</td>\n",
       "      <td>Job_3</td>\n",
       "    </tr>\n",
       "    <tr>\n",
       "      <th>4</th>\n",
       "      <td>6</td>\n",
       "      <td>Person_6</td>\n",
       "      <td>36</td>\n",
       "      <td>City_B</td>\n",
       "      <td>1707793566.2108777</td>\n",
       "      <td>mX6IAbhFpxRb4g</td>\n",
       "      <td>Job_6</td>\n",
       "    </tr>\n",
       "    <tr>\n",
       "      <th>5</th>\n",
       "      <td>5</td>\n",
       "      <td>Person_5</td>\n",
       "      <td>35</td>\n",
       "      <td>City_B</td>\n",
       "      <td>1707793566.2108777</td>\n",
       "      <td>8UXJN8S3SShraQ</td>\n",
       "      <td>Job_5</td>\n",
       "    </tr>\n",
       "    <tr>\n",
       "      <th>6</th>\n",
       "      <td>8</td>\n",
       "      <td>Person_8</td>\n",
       "      <td>38</td>\n",
       "      <td>City_B</td>\n",
       "      <td>1707793566.2108777</td>\n",
       "      <td>KRYMfgoZS7Nkpw</td>\n",
       "      <td>Job_8</td>\n",
       "    </tr>\n",
       "    <tr>\n",
       "      <th>7</th>\n",
       "      <td>4</td>\n",
       "      <td>Person_4</td>\n",
       "      <td>34</td>\n",
       "      <td>City_B</td>\n",
       "      <td>1707793566.2108777</td>\n",
       "      <td>XtgXV08m8Ve1LA</td>\n",
       "      <td>Job_4</td>\n",
       "    </tr>\n",
       "  </tbody>\n",
       "</table>\n",
       "</div>"
      ],
      "text/plain": [
       "   id      name  age    city        _dlt_load_id         _dlt_id occupation\n",
       "0   1  Person_1   26  City_A  1707793564.6901357  yUOb3CZBbymo6w       None\n",
       "1   2  Person_2   27  City_A  1707793564.6901357  lk1XmQyfWL3kMw       None\n",
       "2   7  Person_7   37  City_B  1707793566.2108777  vv1pl13Q4gTEOw      Job_7\n",
       "3   3  Person_3   33  City_B  1707793566.2108777  G7KrG1F4BC4onw      Job_3\n",
       "4   6  Person_6   36  City_B  1707793566.2108777  mX6IAbhFpxRb4g      Job_6\n",
       "5   5  Person_5   35  City_B  1707793566.2108777  8UXJN8S3SShraQ      Job_5\n",
       "6   8  Person_8   38  City_B  1707793566.2108777  KRYMfgoZS7Nkpw      Job_8\n",
       "7   4  Person_4   34  City_B  1707793566.2108777  XtgXV08m8Ve1LA      Job_4"
      ]
     },
     "metadata": {},
     "output_type": "display_data"
    },
    {
     "name": "stdout",
     "output_type": "stream",
     "text": [
      "\n",
      " The sum of ages from all people in gen1_p4 (from generator1 and generator2 merged) is:\n"
     ]
    },
    {
     "data": {
      "text/html": [
       "<div>\n",
       "<style scoped>\n",
       "    .dataframe tbody tr th:only-of-type {\n",
       "        vertical-align: middle;\n",
       "    }\n",
       "\n",
       "    .dataframe tbody tr th {\n",
       "        vertical-align: top;\n",
       "    }\n",
       "\n",
       "    .dataframe thead th {\n",
       "        text-align: right;\n",
       "    }\n",
       "</style>\n",
       "<table border=\"1\" class=\"dataframe\">\n",
       "  <thead>\n",
       "    <tr style=\"text-align: right;\">\n",
       "      <th></th>\n",
       "      <th>sum_age</th>\n",
       "    </tr>\n",
       "  </thead>\n",
       "  <tbody>\n",
       "    <tr>\n",
       "      <th>0</th>\n",
       "      <td>266.0</td>\n",
       "    </tr>\n",
       "  </tbody>\n",
       "</table>\n",
       "</div>"
      ],
      "text/plain": [
       "   sum_age\n",
       "0    266.0"
      ]
     },
     "metadata": {},
     "output_type": "display_data"
    }
   ],
   "source": [
    "# Finallly, to check the data merged\n",
    "print(\"\\n the merged data in gen1_p4 table is shown below:\")\n",
    "people_gen1 = conn.sql(\"SELECT * FROM gen1_p4\").df()\n",
    "display(people_gen1)\n",
    "\n",
    "# Then using a sql request from gen1 we get the sum of ages as follows:\n",
    "print(\"\\n The sum of ages from all people in gen1_p4 (from generator1 and generator2 merged) is:\")\n",
    "ages_gen1 = conn.sql(\"SELECT sum(age) as sum_age FROM gen1_p4\").df()\n",
    "display(ages_gen1)"
   ]
  },
  {
   "cell_type": "markdown",
   "metadata": {},
   "source": [
    "Using the code snippets above, we calculate the sum of all ages of people as __'B: 266'.__ from the registries merged."
   ]
  }
 ],
 "metadata": {
  "kernelspec": {
   "display_name": "base",
   "language": "python",
   "name": "python3"
  },
  "language_info": {
   "codemirror_mode": {
    "name": "ipython",
    "version": 3
   },
   "file_extension": ".py",
   "mimetype": "text/x-python",
   "name": "python",
   "nbconvert_exporter": "python",
   "pygments_lexer": "ipython3",
   "version": "3.9.18"
  }
 },
 "nbformat": 4,
 "nbformat_minor": 2
}
