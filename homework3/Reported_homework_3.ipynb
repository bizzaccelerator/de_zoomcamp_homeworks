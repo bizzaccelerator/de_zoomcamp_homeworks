{
 "cells": [
  {
   "cell_type": "markdown",
   "metadata": {},
   "source": [
    "Hey, I'm Jobert Gutierrez and hereafter you'll find the logic and code used to answer the third assignment in the program Data Engineering Zoomcamp offered by Data Talks Club."
   ]
  },
  {
   "cell_type": "markdown",
   "metadata": {},
   "source": [
    "# __Module 3 Homework__\n",
    "\n",
    "__Important Note:__\n",
    "\n",
    "For this homework we will be using the 2022 Green Taxi Trip Record Parquet Files from the New York City Taxi Data found here:\n",
    "\n",
    "https://www.nyc.gov/site/tlc/about/tlc-trip-record-data.page\n",
    "\n",
    "If you are using orchestration such as Mage, Airflow or Prefect do not load the data into Big Query using the orchestrator.\n",
    "Stop with loading the files into a bucket.\n",
    "\n",
    "NOTE: You will need to use the PARQUET option files when creating an External Table\n",
    "\n",
    "SETUP:\n",
    "\n",
    "Create an external table using the Green Taxi Trip Records Data for 2022. <br>\n",
    "Create a table in BQ using the Green Taxi Trip Records for 2022 (do not partition or cluster this table)."
   ]
  },
  {
   "cell_type": "markdown",
   "metadata": {},
   "source": [
    "### Preparation.\n",
    "\n",
    "The external table was created with the following code:"
   ]
  },
  {
   "cell_type": "code",
   "execution_count": null,
   "metadata": {
    "vscode": {
     "languageId": "plaintext"
    }
   },
   "outputs": [],
   "source": [
    "# First snippet of code\n",
    "create or replace external table `data-taxi-1.bq_homework.green_taxi_trips`\n",
    "options (\n",
    "  format = 'parquet',\n",
    "  uris = ['gs://dtc_data_lake_data-taxi-1/data/green/green_tripdata_2022-*.parquet']\n",
    ")"
   ]
  },
  {
   "cell_type": "markdown",
   "metadata": {},
   "source": [
    "The non-partitioned table in BQ is created using the following code:"
   ]
  },
  {
   "cell_type": "code",
   "execution_count": null,
   "metadata": {
    "vscode": {
     "languageId": "plaintext"
    }
   },
   "outputs": [],
   "source": [
    "create or replace table `data-taxi-1.bq_homework.green_taxi_non_partitioned` as\n",
    "select * from `data-taxi-1.bq_homework.green_taxi_trips`;"
   ]
  },
  {
   "cell_type": "markdown",
   "metadata": {},
   "source": [
    "## Questions\n",
    "### Question 1: \n",
    "What is count of records for the 2022 Green Taxi Data??\n",
    "\n",
    "- 65,623,481\n",
    "- 840,402\n",
    "- 1,936,423\n",
    "- 253,647\n",
    "\n"
   ]
  },
  {
   "cell_type": "markdown",
   "metadata": {},
   "source": [
    "### Answer: \n",
    "Using the code:"
   ]
  },
  {
   "cell_type": "code",
   "execution_count": null,
   "metadata": {
    "vscode": {
     "languageId": "plaintext"
    }
   },
   "outputs": [],
   "source": [
    "select count(VendorID) from `data-taxi-1.bq_homework.green_taxi_non_partitioned`"
   ]
  },
  {
   "cell_type": "markdown",
   "metadata": {},
   "source": [
    "We obtain the result of __840.402 records__."
   ]
  },
  {
   "cell_type": "markdown",
   "metadata": {},
   "source": [
    "## Question 2:\n",
    "Write a query to count the distinct number of PULocationIDs for the entire dataset on both the tables.\n",
    "What is the estimated amount of data that will be read when this query is executed on the External Table and the Table?\n",
    "\n",
    "- 0 MB for the External Table and 6.41MB for the Materialized Table\n",
    "- 18.82 MB for the External Table and 47.60 MB for the Materialized Table\n",
    "- 0 MB for the External Table and 0MB for the Materialized Table\n",
    "- 2.14 MB for the External Table and 0MB for the Materialized Table\n",
    "\n",
    "## Answer:\n",
    "\n",
    "Using the code:"
   ]
  },
  {
   "cell_type": "code",
   "execution_count": null,
   "metadata": {
    "vscode": {
     "languageId": "plaintext"
    }
   },
   "outputs": [],
   "source": [
    "# To query the external table:\n",
    "select distinct `PULocationID`\n",
    "from \n",
    "(\n",
    " select * \n",
    " from `data-taxi-1.bq_homework.green_taxi_trips`\n",
    ")\n",
    "`data-taxi-1.bq_homework.green_taxi_taxi_trips`\n",
    "\n",
    "# To query the non-partitioned table:\n",
    "select distinct `PULocationID`\n",
    "from \n",
    "(\n",
    " select * \n",
    " from `data-taxi-1.bq_homework.green_taxi_non_partitioned`\n",
    ")\n",
    "`data-taxi-1.bq_homework.green_taxi_non_partitioned`"
   ]
  },
  {
   "cell_type": "markdown",
   "metadata": {},
   "source": [
    "Before running the queries, BigQuery predicts the amount of data to be processed. When refering the external table, BigQuery shows __'This query will process 0 B when run.'__, and predicts __'This query will process 6.41 MB when run.'__ from the materialized table. Size of the dataset in external tables can not be calculated because the data lays outside BigQuery."
   ]
  },
  {
   "cell_type": "markdown",
   "metadata": {},
   "source": [
    "## Question 3. \n",
    "How many records have a fare_amount of 0?\n",
    "\n",
    "- 12,488\n",
    "- 128,219\n",
    "- 112\n",
    "- 1,622\n",
    "\n",
    "## Answer:\n",
    "\n",
    "Using the code:"
   ]
  },
  {
   "cell_type": "code",
   "execution_count": null,
   "metadata": {
    "vscode": {
     "languageId": "plaintext"
    }
   },
   "outputs": [],
   "source": [
    "select count(VendorID) \n",
    "from `data-taxi-1.bq_homework.green_taxi_non_partitioned` as t1\n",
    "where t1.fare_amount = 0"
   ]
  },
  {
   "cell_type": "markdown",
   "metadata": {},
   "source": [
    "Using the code snippet above, we get a prediction of __'This query will process 12.82 MB when run.'__. After being processed, __1.622 records are found with a fare amount of 0.__"
   ]
  },
  {
   "cell_type": "markdown",
   "metadata": {},
   "source": [
    "## Question 4. \n",
    "What is the best strategy to make an optimized table in Big Query if your query will always order the results by PUlocationID and filter based on lpep_pickup_datetime? (Create a new table with this strategy)\n",
    "\n",
    "- Cluster on lpep_pickup_datetime Partition by PUlocationID\n",
    "- Partition by lpep_pickup_datetime Cluster on PUlocationID\n",
    "- Partition by lpep_pickup_datetime and Partition by PUlocationID\n",
    "- Cluster on by lpep_pickup_datetime and Cluster on PUlocationID\n",
    "\n",
    "## Answer:\n",
    "\n",
    "From theory we know that the best strategy to make an optimized table in BigQuery so that we always order the results by PUlocationID and filter based on lpep_pickup_datetime is `Creating partition by lpep_pickup_datetime Cluster on PUlocationID`. Indeed, knowing that partitioning is allowed over one column only; hence, using the column _lpep_pickup_datetime_ to create a date column will effectively reduce the number of rows to be analized in future queries. Using PULocationID to create partitions will reduce the results to a limited number of IDs instead of listing all of them in a specific order, which is the desired outcome. \n",
    "\n",
    "However, the code used to create a new partitioned and clustered table as indicated above is:"
   ]
  },
  {
   "cell_type": "code",
   "execution_count": null,
   "metadata": {
    "vscode": {
     "languageId": "plaintext"
    }
   },
   "outputs": [],
   "source": [
    "create or replace table `data-taxi-1.bq_homework.green_taxi_partitioned_clustered` \n",
    "partition by date(lpep_pickup_datetime)\n",
    "cluster by PULocationID as\n",
    "select * from `data-taxi-1.bq_homework.green_taxi_trips`"
   ]
  },
  {
   "cell_type": "markdown",
   "metadata": {},
   "source": [
    "## Question 5. Data Transformation\n",
    "Write a query to retrieve the distinct PULocationID between lpep_pickup_datetime 06/01/2022 and 06/30/2022 (inclusive)\n",
    "\n",
    "Use the materialized table you created earlier in your from clause and note the estimated bytes. Now change the table in the from clause to the partitioned table you created for question 4 and note the estimated bytes processed. What are these values?\n",
    "\n",
    "Choose the answer which most closely matches.\n",
    "\n",
    "- 22.82 MB for non-partitioned table and 647.87 MB for the partitioned table\n",
    "- 12.82 MB for non-partitioned table and 1.12 MB for the partitioned table\n",
    "- 5.63 MB for non-partitioned table and 0 MB for the partitioned table\n",
    "- 10.31 MB for non-partitioned table and 10.31 MB for the partitioned table\n",
    "\n",
    "## Answer:\n",
    "\n",
    "Reading the information from the non-partitioned table results in the following message __'This query will process 12.82 MB when run.'__ using the snippet:"
   ]
  },
  {
   "cell_type": "code",
   "execution_count": null,
   "metadata": {
    "vscode": {
     "languageId": "plaintext"
    }
   },
   "outputs": [],
   "source": [
    "# To query the non-partitioned table:\n",
    "select distinct `PULocationID`\n",
    "from \n",
    "(\n",
    " select * \n",
    " from `data-taxi-1.bq_homework.green_taxi_non_partitioned`\n",
    ")\n",
    "`data-taxi-1.bq_homework.green_taxi_non_partitioned`\n",
    "where date(lpep_pickup_datetime) between '2022-06-01' and '2022-06-30'\n",
    "\n",
    "# To query the partitioned and clustered table:\n",
    "select distinct `PULocationID`\n",
    "from \n",
    "(\n",
    " select * \n",
    " from `data-taxi-1.bq_homework.green_taxi_partitioned_clustered`\n",
    ")\n",
    "`data-taxi-1.bq_homework.green_taxi_partitioned_clustered`\n",
    "where date(lpep_pickup_datetime) between '2022-06-01' and '2022-06-30'"
   ]
  },
  {
   "cell_type": "markdown",
   "metadata": {},
   "source": [
    "But the amount of data read from the partitioned and clustered table reduces to 10% of that read from the non-partitioned table __('This query will process 1.12 MB when run.')__. "
   ]
  },
  {
   "cell_type": "markdown",
   "metadata": {},
   "source": [
    "## Question 6. \n",
    "Where is the data stored in the External Table you created?\n",
    "\n",
    "- Big Query\n",
    "- GCP Bucket\n",
    "- Big Table\n",
    "- Container Registry\n",
    "\n",
    "## Answer:\n",
    "\n",
    "It can be seen in `First snippet of code` that the data used in the external table created is stored in my  __'GCP Bucket called dtc_data_lake_data-taxi-1'__."
   ]
  },
  {
   "cell_type": "markdown",
   "metadata": {},
   "source": [
    "## Question 7. \n",
    "It is best practice in Big Query to always cluster your data:\n",
    "\n",
    "- True\n",
    "- False\n",
    "\n",
    "## Answer:\n",
    "\n",
    "__'False.'__. It is recommended to Cluster data of 1 GB size or higher, because smaller data size don't show improvements in performance. "
   ]
  },
  {
   "cell_type": "markdown",
   "metadata": {},
   "source": [
    "## Question 8. (Bonus: Not worth points)\n",
    "No Points: Write a SELECT count(*) query FROM the materialized table you created. How many bytes does it estimate will be read? Why?\n",
    "\n",
    "## Answer:\n",
    "\n",
    "The code snippet written is `select * from data-taxi-1.bq_homework.green_taxi_non_partitioned`and __This query will process 114.11 MB when run__ because this will read the entire dataset. That means, the query will read all the rows in every column."
   ]
  }
 ],
 "metadata": {
  "language_info": {
   "name": "python"
  }
 },
 "nbformat": 4,
 "nbformat_minor": 2
}
