{
 "cells": [
  {
   "cell_type": "markdown",
   "metadata": {},
   "source": [
    "Hey, I'm Jobert Gutierrez and hereafter you'll find the logic and code used to answer the first assignment in the program Data Engineering Zoomcamp offered by Data Talks Club."
   ]
  },
  {
   "cell_type": "markdown",
   "metadata": {},
   "source": [
    "# __Module 1 Homework__\n",
    "\n",
    "## __Docker & SQL__\n",
    "In this homework we'll prepare the environment and practice with Docker and SQL\n",
    "\n",
    "### __Question 1. Knowing docker tags__\n",
    "Run the command to get information on Docker\n",
    "\n",
    "_docker --help_\n",
    "\n",
    "Now run the command to get help on the \"docker build\" command:\n",
    "\n",
    "_docker build --help_\n",
    "\n",
    "Do the same for \"docker run\".\n",
    "\n",
    "Which tag has the following text? - Automatically remove the container when it exits\n",
    "\n",
    "--delete <br>\n",
    "--rc <br>\n",
    "--rmc <br>\n",
    "--rm <br>"
   ]
  },
  {
   "cell_type": "markdown",
   "metadata": {},
   "source": [
    "### Answer: \n",
    "Using the command _docker run --help_, we get answer from the terminal. In the appendix -q we can read that the correct answer is (--rm)"
   ]
  },
  {
   "cell_type": "markdown",
   "metadata": {},
   "source": [
    "### __Question 2. Understanding docker first run__\n",
    "Run docker with the python:3.9 image in an interactive mode and the entrypoint of bash. Now check the python modules that are installed ( use pip list ).\n",
    "\n",
    "What is version of the package wheel ?\n",
    "\n",
    "0.42.0 <br>\n",
    "1.0.0 <br>\n",
    "23.0.1 <br>\n",
    "58.1.0 "
   ]
  },
  {
   "cell_type": "markdown",
   "metadata": {},
   "source": [
    "### Answer: \n",
    "Using the command _\"docker run -it --entrypoint=//bin/bash python:3.9\"_. The double // tells git not to conver the path for windows.\n",
    "And then \"pip list\", so we get __wheel 0.42.0__"
   ]
  },
  {
   "cell_type": "markdown",
   "metadata": {},
   "source": [
    "## __Prepare Postgres__\n",
    "Run Postgres and load data as shown in the videos We'll use the green taxi trips from September 2019:\n",
    "\n",
    "wget https://github.com/DataTalksClub/nyc-tlc-data/releases/download/green/green_tripdata_2019-09.csv.gz\n",
    "\n",
    "You will also need the dataset with zones:\n",
    "\n",
    "wget https://s3.amazonaws.com/nyc-tlc/misc/taxi+_zone_lookup.csv\n",
    "\n",
    "Download this data and put it into Postgres (with jupyter notebooks or with a pipeline)\n",
    "\n",
    "### __Question 3. Count records__\n",
    "How many taxi trips were totally made on September 18th 2019?\n",
    "\n",
    "Tip: started and finished on 2019-09-18.\n",
    "\n",
    "Remember that lpep_pickup_datetime and lpep_dropoff_datetime columns are in the format timestamp (date and hour+min+sec) and not in date.\n",
    "\n",
    "15767 <br>\n",
    "15612 <br>\n",
    "15859 <br>\n",
    "89009 <br>\n",
    "\n",
    "To answer this question we upload both the data and data files to out local postgres database using the snnipets:"
   ]
  },
  {
   "cell_type": "code",
   "execution_count": null,
   "metadata": {},
   "outputs": [],
   "source": [
    "URL=\"https://github.com/DataTalksClub/nyc-tlc-data/releases/download/green/green_tripdata_2019-09.csv.gz\"\n",
    "\n",
    "winpty docker run -it \\\n",
    "  --network=pg-network \\\n",
    "  upload_green:v1.0 \\\n",
    "    --user=root \\\n",
    "    --password=root \\\n",
    "    --host=pg-database \\\n",
    "    --port=5432 \\\n",
    "    --db=ny_taxi \\\n",
    "    --table_name=green_taxi_trips \\\n",
    "    --url=${URL}"
   ]
  },
  {
   "cell_type": "markdown",
   "metadata": {},
   "source": [
    "and:"
   ]
  },
  {
   "cell_type": "code",
   "execution_count": null,
   "metadata": {},
   "outputs": [],
   "source": [
    "URL=\"https://s3.amazonaws.com/nyc-tlc/misc/taxi+_zone_lookup.csv\"\n",
    "\n",
    "winpty docker run -it \\\n",
    "  --network=pg-network \\\n",
    "  taxi_zones:v01 \\\n",
    "    --user=root \\\n",
    "    --password=root \\\n",
    "    --host=pg-database \\\n",
    "    --port=5432 \\\n",
    "    --db=ny_taxi \\\n",
    "    --table_name=zones_table \\\n",
    "    --url=${URL}"
   ]
  },
  {
   "cell_type": "markdown",
   "metadata": {},
   "source": [
    "The we can count the trips into pg-admin using the following postgresql snippet:"
   ]
  },
  {
   "cell_type": "code",
   "execution_count": null,
   "metadata": {},
   "outputs": [],
   "source": [
    "select count(1) from green_taxi_trips\n",
    "where date(lpep_pickup_datetime)='2019-09-18'\n",
    "and date(lpep_dropoff_datetime)='2019-09-18'"
   ]
  },
  {
   "cell_type": "markdown",
   "metadata": {},
   "source": [
    "### Answer:\n",
    "Hence, we get an amount of __15612 trips__."
   ]
  },
  {
   "cell_type": "markdown",
   "metadata": {},
   "source": [
    "### __Question 4. Largest trip for each day__\n",
    "Which was the pick up day with the largest trip distance Use the pick up time for your calculations.\n",
    "\n",
    "2019-09-18 <br>\n",
    "2019-09-16 <br>\n",
    "2019-09-26 <br>\n",
    "2019-09-21\n",
    "\n",
    "we write the code as follows:"
   ]
  },
  {
   "cell_type": "code",
   "execution_count": null,
   "metadata": {},
   "outputs": [],
   "source": [
    "select \n",
    "\tdate(lpep_pickup_datetime) as pick_up_day,\n",
    "\tmax(trip_distance) as biggest_distance\n",
    "from green_taxi_trips\n",
    "group by date(lpep_pickup_datetime)\n",
    "order by biggest_distance desc \n",
    "limit 3"
   ]
  },
  {
   "cell_type": "markdown",
   "metadata": {},
   "source": [
    "### Answer:\n",
    "The largest trip during septembre 2019 was performed in __2019-09-26__."
   ]
  },
  {
   "cell_type": "markdown",
   "metadata": {},
   "source": [
    "### __Question 5. Three biggest pick up Boroughs__\n",
    "Consider lpep_pickup_datetime in '2019-09-18' and ignoring Borough has Unknown\n",
    "\n",
    "Which were the 3 pick up Boroughs that had a sum of total_amount superior to 50000?\n",
    "\n",
    "\"Brooklyn\" \"Manhattan\" \"Queens\" <br>\n",
    "\"Bronx\" \"Brooklyn\" \"Manhattan\" <br>\n",
    "\"Bronx\" \"Manhattan\" \"Queens\" <br>\n",
    "\"Brooklyn\" \"Queens\" \"Staten Island\"\n",
    "\n",
    "Using the following code:"
   ]
  },
  {
   "cell_type": "code",
   "execution_count": null,
   "metadata": {},
   "outputs": [],
   "source": [
    "select \n",
    "\tpublic.zones_table.\"Borough\",\n",
    "\tsum(public.green_taxi_trips.total_amount) as sum_amount\n",
    "from \n",
    "\tpublic.zones_table \n",
    "left join public.green_taxi_trips\n",
    "on public.zones_table.\"LocationID\" = public.green_taxi_trips.\"PULocationID\"\n",
    "where\n",
    "\tdate(public.green_taxi_trips.lpep_pickup_datetime)='2019-09-18'\n",
    "group by \n",
    "\tpublic.zones_table.\"Borough\"\n",
    "order by \n",
    "\tsum_amount desc"
   ]
  },
  {
   "cell_type": "markdown",
   "metadata": {},
   "source": [
    "### Answer:\n",
    "Running the snippet above we identify that the 3 pick up Boroughs that had a sum of total_amount superior to 50000 are __\"Brooklyn\" \"Manhattan\" \"Queens\"__."
   ]
  },
  {
   "cell_type": "markdown",
   "metadata": {},
   "source": [
    "### __Question 6. Largest tip__\n",
    "For the passengers picked up in September 2019 in the zone name Astoria which was the drop off zone that had the largest tip? We want the name of the zone, not the id.\n",
    "\n",
    "Note: it's not a typo, it's tip , not trip\n",
    "\n",
    "Central Park <br>\n",
    "Jamaica <br>\n",
    "JFK Airport <br>\n",
    "Long Island City/Queens Plaza\n",
    "\n",
    "Using the following code:"
   ]
  },
  {
   "cell_type": "code",
   "execution_count": null,
   "metadata": {},
   "outputs": [],
   "source": [
    "select \n",
    "\tz2.\"Zone\",\n",
    "\tmax(public.green_taxi_trips.tip_amount) as tips\n",
    "from \n",
    "\tpublic.green_taxi_trips\n",
    "left join public.zones_table z\n",
    "on z.\"LocationID\" = public.green_taxi_trips.\"PULocationID\"\n",
    "inner join public.zones_table z2\n",
    "on z2.\"LocationID\" = public.green_taxi_trips.\"DOLocationID\"\n",
    "where \n",
    "\tz.\"Zone\" = 'Astoria'\n",
    "group by \n",
    "\tz2.\"Zone\"\n",
    "order by \n",
    "\ttips desc\n",
    "limit 3"
   ]
  },
  {
   "cell_type": "markdown",
   "metadata": {},
   "source": [
    "### Answer:\n",
    "We obtain that __\"JFK Airport\" was the drop off zone that had the largest tip__."
   ]
  },
  {
   "cell_type": "markdown",
   "metadata": {},
   "source": [
    "## __Terraform__\n",
    "In this section homework we'll prepare the environment by creating resources in GCP with Terraform.\n",
    "\n",
    "In your VM on GCP/Laptop/GitHub Codespace install Terraform. Copy the files from the course repo here to your VM/Laptop/GitHub Codespace.\n",
    "\n",
    "Modify the files as necessary to create a GCP Bucket and Big Query Dataset.\n",
    "\n",
    "### __Question 7. Creating Resources__\n",
    "After updating the main.tf and variable.tf files run:\n",
    "\n",
    "terraform apply\n",
    "Paste the output of this command into the homework submission form.\n",
    "\n",
    "### Answer:\n",
    "\n",
    "The output of the command _terraform apply_ is:"
   ]
  },
  {
   "cell_type": "markdown",
   "metadata": {},
   "source": [
    "Plan: 2 to add, 0 to change, 0 to destroy.\n",
    "\n",
    "Do you want to perform these actions?\n",
    "  Terraform will perform the actions described above.\n",
    "  Only 'yes' will be accepted to approve.\n",
    "\n",
    "  Enter a value: yes\n",
    "\n",
    "google_bigquery_dataset.demo_dataset: Creating...\n",
    "google_storage_bucket.demo-bucket: Creating...\n",
    "google_bigquery_dataset.demo_dataset: Creation complete after 1s [id=projects/data-taxi-1/datasets/demo_dataset]\n",
    "google_storage_bucket.demo-bucket: Creation complete after 1s [id=terraform-taxi-data-1]\n",
    "\n",
    "Apply complete! Resources: 2 added, 0 changed, 0 destroyed."
   ]
  }
 ],
 "metadata": {
  "language_info": {
   "name": "python"
  }
 },
 "nbformat": 4,
 "nbformat_minor": 2
}
